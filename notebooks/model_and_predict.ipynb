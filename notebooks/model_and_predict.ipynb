{
 "cells": [
  {
   "cell_type": "code",
   "execution_count": 63,
   "id": "bbf95b17-aefb-440f-984c-181c4aca8a99",
   "metadata": {},
   "outputs": [],
   "source": [
    "import pandas as pd\n",
    "import numpy as np\n",
    "import matplotlib.pyplot as plt\n",
    "import seaborn as sns\n",
    "from matplotlib import style\n",
    "style.use('ggplot')\n",
    "%matplotlib inline"
   ]
  },
  {
   "cell_type": "code",
   "execution_count": 64,
   "id": "d3d4a7c8-1f49-49cc-8394-339da25f0615",
   "metadata": {},
   "outputs": [],
   "source": [
    "df_raw = pd.read_csv(\"~/data-science-projects/data-sources/subs.csv\")"
   ]
  },
  {
   "cell_type": "code",
   "execution_count": 65,
   "id": "981541b5-d297-4ae4-92a1-da5de3f13586",
   "metadata": {},
   "outputs": [
    {
     "name": "stdout",
     "output_type": "stream",
     "text": [
      "dataset has 20000 Number of rows and 15 number of columns\n"
     ]
    }
   ],
   "source": [
    "print('dataset has {} Number of rows and {} number of columns'.\\\n",
    "      format(df_raw.shape[0],train.shape[1]))"
   ]
  },
  {
   "cell_type": "code",
   "execution_count": 66,
   "id": "f81aad44-0fb9-480b-8f36-3f63cf3dc28d",
   "metadata": {},
   "outputs": [],
   "source": [
    "df_raw = pd.read_csv(\"~/data-science-projects/data-sources/subs.csv\")\n",
    "df = df_raw.dropna()"
   ]
  },
  {
   "cell_type": "code",
   "execution_count": 67,
   "id": "5adb1e0d-78e1-417b-bdce-9a0d5a434e23",
   "metadata": {},
   "outputs": [
    {
     "name": "stdout",
     "output_type": "stream",
     "text": [
      "<class 'pandas.core.frame.DataFrame'>\n",
      "Int64Index: 19477 entries, 0 to 19998\n",
      "Data columns (total 15 columns):\n",
      " #   Column                              Non-Null Count  Dtype  \n",
      "---  ------                              --------------  -----  \n",
      " 0   BAN_hashed                          19477 non-null  int64  \n",
      " 1   IMSI_hashed                         19477 non-null  int64  \n",
      " 2   BRAND                               19477 non-null  object \n",
      " 3   DEVICE_MANUFACTURER_TXT             19477 non-null  object \n",
      " 4   MUNICIPALITY_NM                     19477 non-null  object \n",
      " 5   PROVINCE_STATE_CD                   19477 non-null  object \n",
      " 6   TENURE_DAY_QTY_SCALED               19477 non-null  float64\n",
      " 7   PRICE_PLAN                          19477 non-null  object \n",
      " 8   PROD_TV                             19477 non-null  int64  \n",
      " 9   PROD_INTERNET                       19477 non-null  int64  \n",
      " 10  SEGMENT_NM                          19477 non-null  object \n",
      " 11  LOCALITY_NM                         19477 non-null  object \n",
      " 12  LIFESTAGE                           19477 non-null  object \n",
      " 13  THREE_MONTH_AVG_WLN_BILLING_SCALED  19477 non-null  float64\n",
      " 14  THREE_MONTH_AVG_WLS_BILLING_SCALED  19477 non-null  float64\n",
      "dtypes: float64(3), int64(4), object(8)\n",
      "memory usage: 2.4+ MB\n"
     ]
    }
   ],
   "source": [
    "df.info()"
   ]
  },
  {
   "cell_type": "code",
   "execution_count": 94,
   "id": "2bd9d5ce-4ea8-4245-af2d-1092141ab4f9",
   "metadata": {},
   "outputs": [],
   "source": [
    "#get one-hot for the non-numeric columns \n",
    "brand_dummies = pd.get_dummies(df.BRAND, prefix='brnd')\n",
    "seg_dummies = pd.get_dummies(df.SEGMENT_NM, prefix='seg')\n",
    "loc_dummies = pd.get_dummies(df.LOCALITY_NM, prefix='loc')\n",
    "stage_dummies = pd.get_dummies(df.LIFESTAGE, prefix='stage')\n",
    "\n",
    "#add the one-hot columns\n",
    "df_trm = pd.concat([df, brand_dummies,seg_dummies,loc_dummies,stage_dummies], axis=1)\n",
    "\n",
    "#drop the columns that are non-numeris\n",
    "df_trm.drop(['BRAND', 'SEGMENT_NM','LOCALITY_NM','LIFESTAGE'], axis=1, inplace=True)\n",
    "\n",
    "#fileter non TV customers and drop the column\n",
    "df_trm = df_trm[df_trm.PROD_TV != 0]\n",
    "df_trm.drop('PROD_TV', axis=1, inplace=True)\n",
    "\n",
    "#drop the hashed columns about idnetity\n",
    "df_trm.drop(['BAN_hashed','IMSI_hashed'],axis=1,inplace=True)\n",
    "\n",
    "#temporarily drop other non numerical columns\n",
    "df_trm.drop(['DEVICE_MANUFACTURER_TXT','MUNICIPALITY_NM','PROVINCE_STATE_CD','PRICE_PLAN'],axis=1,inplace=True)"
   ]
  },
  {
   "cell_type": "code",
   "execution_count": 96,
   "id": "616fc6df-9f0c-4a29-8db8-7a90c25fb3f5",
   "metadata": {},
   "outputs": [
    {
     "name": "stdout",
     "output_type": "stream",
     "text": [
      "<class 'pandas.core.frame.DataFrame'>\n",
      "Int64Index: 13834 entries, 0 to 19998\n",
      "Data columns (total 93 columns):\n",
      " #   Column                                 Non-Null Count  Dtype  \n",
      "---  ------                                 --------------  -----  \n",
      " 0   TENURE_DAY_QTY_SCALED                  13834 non-null  float64\n",
      " 1   PROD_INTERNET                          13834 non-null  int64  \n",
      " 2   THREE_MONTH_AVG_WLN_BILLING_SCALED     13834 non-null  float64\n",
      " 3   THREE_MONTH_AVG_WLS_BILLING_SCALED     13834 non-null  float64\n",
      " 4   brnd_K                                 13834 non-null  uint8  \n",
      " 5   brnd_T                                 13834 non-null  uint8  \n",
      " 6   seg_Agri-Biz                           13834 non-null  uint8  \n",
      " 7   seg_All-Terrain Families               13834 non-null  uint8  \n",
      " 8   seg_Asian Achievement                  13834 non-null  uint8  \n",
      " 9   seg_Asian Avenues                      13834 non-null  uint8  \n",
      " 10  seg_Asian Sophisticates                13834 non-null  uint8  \n",
      " 11  seg_Backcountry Boomers                13834 non-null  uint8  \n",
      " 12  seg_Boomer Bliss                       13834 non-null  uint8  \n",
      " 13  seg_Came From Away                     13834 non-null  uint8  \n",
      " 14  seg_Country & Western                  13834 non-null  uint8  \n",
      " 15  seg_Country Traditions                 13834 non-null  uint8  \n",
      " 16  seg_Diverse & Determined               13834 non-null  uint8  \n",
      " 17  seg_Down to Earth                      13834 non-null  uint8  \n",
      " 18  seg_Downtown Verve                     13834 non-null  uint8  \n",
      " 19  seg_Eat, Play, Love                    13834 non-null  uint8  \n",
      " 20  seg_Enclaves Multiethniques            13834 non-null  uint8  \n",
      " 21  seg_Familles Typiques                  13834 non-null  uint8  \n",
      " 22  seg_Family Mode                        13834 non-null  uint8  \n",
      " 23  seg_First-Class Families               13834 non-null  uint8  \n",
      " 24  seg_Friends & Roomies                  13834 non-null  uint8  \n",
      " 25  seg_Happy Medium                       13834 non-null  uint8  \n",
      " 26  seg_Indieville                         13834 non-null  uint8  \n",
      " 27  seg_Indigenous Families                13834 non-null  uint8  \n",
      " 28  seg_Juggling Acts                      13834 non-null  uint8  \n",
      " 29  seg_Just Getting By                    13834 non-null  uint8  \n",
      " 30  seg_Keep on Trucking                   13834 non-null  uint8  \n",
      " 31  seg_Kick-Back Country                  13834 non-null  uint8  \n",
      " 32  seg_Latte Life                         13834 non-null  uint8  \n",
      " 33  seg_Les Énerjeunes                     13834 non-null  uint8  \n",
      " 34  seg_Mature & Secure                    13834 non-null  uint8  \n",
      " 35  seg_Metro Melting Pot                  13834 non-null  uint8  \n",
      " 36  seg_Mid-City Mellow                    13834 non-null  uint8  \n",
      " 37  seg_Middle-Class Mosaic                13834 non-null  uint8  \n",
      " 38  seg_Midtown Movers                     13834 non-null  uint8  \n",
      " 39  seg_Modern Suburbia                    13834 non-null  uint8  \n",
      " 40  seg_Multicultural Corners              13834 non-null  uint8  \n",
      " 41  seg_Multiculture-ish                   13834 non-null  uint8  \n",
      " 42  seg_New Asian Heights                  13834 non-null  uint8  \n",
      " 43  seg_New Country                        13834 non-null  uint8  \n",
      " 44  seg_Old Town Roads                     13834 non-null  uint8  \n",
      " 45  seg_On Their Own Again                 13834 non-null  uint8  \n",
      " 46  seg_Savvy Seniors                      13834 non-null  uint8  \n",
      " 47  seg_Scenic Retirement                  13834 non-null  uint8  \n",
      " 48  seg_Silver Flats                       13834 non-null  uint8  \n",
      " 49  seg_Slow-Lane Suburbs                  13834 non-null  uint8  \n",
      " 50  seg_Social Networkers                  13834 non-null  uint8  \n",
      " 51  seg_South Asian Enterprise             13834 non-null  uint8  \n",
      " 52  seg_South Asian Society                13834 non-null  uint8  \n",
      " 53  seg_Stressed in Suburbia               13834 non-null  uint8  \n",
      " 54  seg_Suburban Recliners                 13834 non-null  uint8  \n",
      " 55  seg_Suburban Sports                    13834 non-null  uint8  \n",
      " 56  seg_The A-List                         13834 non-null  uint8  \n",
      " 57  seg_Turbo Burbs                        13834 non-null  uint8  \n",
      " 58  seg_Un Grand Cru                       13834 non-null  uint8  \n",
      " 59  seg_Unclassified                       13834 non-null  uint8  \n",
      " 60  seg_Value Villagers                    13834 non-null  uint8  \n",
      " 61  seg_Vie au Village                     13834 non-null  uint8  \n",
      " 62  seg_Wealthy & Wise                     13834 non-null  uint8  \n",
      " 63  seg_Âgés & Traditionnels               13834 non-null  uint8  \n",
      " 64  loc_Diverse Urban Fringe               13834 non-null  uint8  \n",
      " 65  loc_Lower-Middle Rural                 13834 non-null  uint8  \n",
      " 66  loc_Middle-Class Suburbia              13834 non-null  uint8  \n",
      " 67  loc_Midscale Urban Fringe              13834 non-null  uint8  \n",
      " 68  loc_Older Suburban                     13834 non-null  uint8  \n",
      " 69  loc_Older Urban Francophone            13834 non-null  uint8  \n",
      " 70  loc_Rural Francophone                  13834 non-null  uint8  \n",
      " 71  loc_Suburban Elite                     13834 non-null  uint8  \n",
      " 72  loc_Town Mix                           13834 non-null  uint8  \n",
      " 73  loc_Unassigned                         13834 non-null  uint8  \n",
      " 74  loc_Upper-Middle Rural                 13834 non-null  uint8  \n",
      " 75  loc_Upper-Middle Suburban Francophone  13834 non-null  uint8  \n",
      " 76  loc_Upper-Middle Suburbia              13834 non-null  uint8  \n",
      " 77  loc_Upscale Suburban Diversity         13834 non-null  uint8  \n",
      " 78  loc_Upscale Urban Fringe               13834 non-null  uint8  \n",
      " 79  loc_Urban Diversity                    13834 non-null  uint8  \n",
      " 80  loc_Urban Elite                        13834 non-null  uint8  \n",
      " 81  loc_Urban Older                        13834 non-null  uint8  \n",
      " 82  loc_Young Urban Core                   13834 non-null  uint8  \n",
      " 83  loc_Younger Urban Mix                  13834 non-null  uint8  \n",
      " 84  stage_Large Diverse Families           13834 non-null  uint8  \n",
      " 85  stage_Mature Singles & Couples         13834 non-null  uint8  \n",
      " 86  stage_Middle-Age Families              13834 non-null  uint8  \n",
      " 87  stage_Older Families & Empty Nests     13834 non-null  uint8  \n",
      " 88  stage_School-Age Families              13834 non-null  uint8  \n",
      " 89  stage_Unassigned                       13834 non-null  uint8  \n",
      " 90  stage_Very Young Singles & Couples     13834 non-null  uint8  \n",
      " 91  stage_Young Families                   13834 non-null  uint8  \n",
      " 92  stage_Younger Singles & Couples        13834 non-null  uint8  \n",
      "dtypes: float64(3), int64(1), uint8(89)\n",
      "memory usage: 1.7 MB\n"
     ]
    }
   ],
   "source": [
    "df_trm.info()"
   ]
  },
  {
   "cell_type": "code",
   "execution_count": null,
   "id": "1fd9db00-f265-4c0d-91db-cf66afcb876b",
   "metadata": {},
   "outputs": [],
   "source": [
    "plt.figure(figsize=(15,8))\n",
    "ax = sns.heatmap(df_trm,xticklabels=df_trm.columns,yticklabels = df_trm.columns,\n",
    "            linewidths=.2,annot=True)"
   ]
  },
  {
   "cell_type": "code",
   "execution_count": null,
   "id": "907092e5-78cc-4529-b604-4bea754b56e4",
   "metadata": {},
   "outputs": [],
   "source": []
  },
  {
   "cell_type": "code",
   "execution_count": null,
   "id": "0ec89dca-79fd-4dc9-80d4-68403b4b8511",
   "metadata": {},
   "outputs": [],
   "source": []
  },
  {
   "cell_type": "code",
   "execution_count": null,
   "id": "739ba9b4-0a42-495f-85c0-549be4884185",
   "metadata": {},
   "outputs": [],
   "source": []
  },
  {
   "cell_type": "code",
   "execution_count": null,
   "id": "43e9765d-7808-4432-ba03-2b8151d561a5",
   "metadata": {},
   "outputs": [],
   "source": []
  }
 ],
 "metadata": {
  "environment": {
   "kernel": "python3",
   "name": "tf2-gpu.2-6.m87",
   "type": "gcloud",
   "uri": "gcr.io/deeplearning-platform-release/tf2-gpu.2-6:m87"
  },
  "kernelspec": {
   "display_name": "Python 3",
   "language": "python",
   "name": "python3"
  },
  "language_info": {
   "codemirror_mode": {
    "name": "ipython",
    "version": 3
   },
   "file_extension": ".py",
   "mimetype": "text/x-python",
   "name": "python",
   "nbconvert_exporter": "python",
   "pygments_lexer": "ipython3",
   "version": "3.7.12"
  }
 },
 "nbformat": 4,
 "nbformat_minor": 5
}
